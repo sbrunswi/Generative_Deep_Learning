{
 "cells": [
  {
   "cell_type": "markdown",
   "metadata": {},
   "source": [
    "### Linear Algebra with TF\n",
    "I found some inspiration [here](https://nbviewer.org/github/adhiraiyan/DeepLearningWithTF2.0/blob/master/notebooks/02.00-Linear-Algebra.ipynb)"
   ]
  },
  {
   "cell_type": "markdown",
   "metadata": {},
   "source": [
    "#### 1. Matrix operations!"
   ]
  },
  {
   "cell_type": "code",
   "execution_count": 3,
   "metadata": {},
   "outputs": [
    {
     "name": "stdout",
     "output_type": "stream",
     "text": [
      "2.16.1\n"
     ]
    }
   ],
   "source": [
    "import tensorflow as tf\n",
    "import sys\n",
    "import numpy as np\n",
    "import matplotlib.pyplot as plt\n",
    "import pandas as pd\n",
    "print(tf.__version__)"
   ]
  },
  {
   "cell_type": "code",
   "execution_count": 8,
   "metadata": {},
   "outputs": [
    {
     "name": "stdout",
     "output_type": "stream",
     "text": [
      "3x3 Rank 2 Tensor A: \n",
      "[[1. 1. 1.]\n",
      " [1. 1. 1.]\n",
      " [1. 1. 1.]]\n",
      "\n",
      "3x3 Rank Tensor B: \n",
      "[[3. 2. 1.]\n",
      " [3. 4. 5.]\n",
      " [7. 6. 5.]]\n",
      "\n",
      "Rank 2 Tensor C with shape=(3, 3) and elements: \n",
      "[[4. 3. 2.]\n",
      " [4. 5. 6.]\n",
      " [8. 7. 6.]]\n"
     ]
    }
   ],
   "source": [
    "# let's create a ones 3x3 rank 2 tensor\n",
    "rank_2_tensor_A = tf.ones([3,3],name=\"Matrix A\")\n",
    "print(\"3x3 Rank 2 Tensor A: \\n{}\\n\".format(rank_2_tensor_A)) #format method in Python 3\n",
    "rank_2_tensor_B = tf.constant([[3,2,1],[3,4,5],[7,6,5]],name='MatrixB',dtype=tf.float32)\n",
    "print(\"3x3 Rank Tensor B: \\n{}\\n\".format(rank_2_tensor_B)) #format method in Python\n",
    "rank_2_tensor_C = tf.add(rank_2_tensor_A, rank_2_tensor_B, name =\"MatrixC\")\n",
    "print(\"Rank 2 Tensor C with shape={} and elements: \\n{}\".format(rank_2_tensor_C.shape,rank_2_tensor_C))\n"
   ]
  },
  {
   "cell_type": "code",
   "execution_count": 14,
   "metadata": {},
   "outputs": [
    {
     "name": "stdout",
     "output_type": "stream",
     "text": [
      "incompatable shapes to add with two_by_three of shape (2, 3) and 3x3 Rank 2 Tensor B of shape (3, 3)\n"
     ]
    },
    {
     "name": "stderr",
     "output_type": "stream",
     "text": [
      "2024-06-12 15:05:06.102733: W tensorflow/core/framework/local_rendezvous.cc:404] Local rendezvous is aborting with status: INVALID_ARGUMENT: Incompatible shapes: [3,3] vs. [2,3]\n"
     ]
    }
   ],
   "source": [
    "#lets see what happens when the shapes are not the same\n",
    "two_by_three =tf.ones([2,3],name=\"Matrix D\")\n",
    "\n",
    "try:\n",
    "\n",
    "    incompatible =tf.add(rank_2_tensor_A,two_by_three)\n",
    "except:\n",
    "    print(\"\"\"incompatable shapes to add with two_by_three of shape {0} and 3x3 Rank 2 Tensor B of shape {1}\"\"\".format(two_by_three.shape,rank_2_tensor_A.shape)) #Here I am learning the use of the format and the string with the positional element\n"
   ]
  },
  {
   "cell_type": "code",
   "execution_count": 27,
   "metadata": {},
   "outputs": [
    {
     "name": "stdout",
     "output_type": "stream",
     "text": [
      " 3 x 3 Rank 1 Tensor: \n",
      "[[ 2.  4.  6.]\n",
      " [ 8. 10. 12.]\n",
      " [14. 16. 18.]]\n",
      "\n",
      "Original Rank 2 Tensor B: \n",
      "[[1. 2. 3.]\n",
      " [4. 5. 6.]\n",
      " [7. 8. 9.]] \n",
      "\n",
      "Scalar a: 2.0\n",
      "Rank 2 Tensor for aB: \n",
      "[[ 2.  4.  6.]\n",
      " [ 8. 10. 12.]\n",
      " [14. 16. 18.]] \n",
      "\n",
      "Scalar c: 3.0 \n",
      "Rank 2 Tensor D = aB + c: \n",
      "[[ 5.  7.  9.]\n",
      " [11. 13. 15.]\n",
      " [17. 19. 21.]]\n",
      "\n"
     ]
    }
   ],
   "source": [
    "#Creating a scalar a,c, and Matrix B\n",
    "rank_0_tensor_a = tf.constant(2,name=\"scalar_A\",dtype=tf.float32)\n",
    "rank_2_tensor_B = tf.constant([[1,2,3],[4,5,6],[7,8,9]],name='MatrixB',dtype=tf.float32)\n",
    "rank_0_tensor_c = tf.constant(3,name=\"scalar_c\",dtype=tf.float32)\n",
    "# multiplying aB\n",
    "multiply_scalar = tf.multiply(rank_0_tensor_a, rank_2_tensor_B)\n",
    "print(\" 3 x 3 Rank 1 Tensor: \\n{0}\\n\".format(multiply_scalar))\n",
    "#rank_0_tensor_a.name I still do not know how to use the name attribute; quite confusing for me\n",
    "#adding aB+c\n",
    "rank_2_tensor_D = tf.add(multiply_scalar,rank_0_tensor_c,name=\"matrixD\")\n",
    "print(\"\"\"Original Rank 2 Tensor B: \\n{0} \\n\\nScalar a: {1}\n",
    "Rank 2 Tensor for aB: \\n{2} \\n\\nScalar c: {3} \\nRank 2 Tensor D = aB + c: \\n{4}\n",
    "\"\"\".format(rank_2_tensor_B, rank_0_tensor_a, multiply_scalar, rank_0_tensor_c, rank_2_tensor_D))\n"
   ]
  },
  {
   "cell_type": "markdown",
   "metadata": {},
   "source": [
    "An important operations is the transpose matrix"
   ]
  },
  {
   "cell_type": "code",
   "execution_count": 28,
   "metadata": {},
   "outputs": [],
   "source": [
    "#Creating a Matrix E\n",
    "rank_2_tensor_E = tf.constant([[1,2,3],[4,5,6]])\n",
    "#Transposing the Matrix E\n",
    "transpose_E = tf.transpose(rank_2_tensor_E, name=\"Transpose_E\")"
   ]
  },
  {
   "cell_type": "code",
   "execution_count": null,
   "metadata": {},
   "outputs": [],
   "source": []
  }
 ],
 "metadata": {
  "kernelspec": {
   "display_name": "Python 3",
   "language": "python",
   "name": "python3"
  },
  "language_info": {
   "codemirror_mode": {
    "name": "ipython",
    "version": 3
   },
   "file_extension": ".py",
   "mimetype": "text/x-python",
   "name": "python",
   "nbconvert_exporter": "python",
   "pygments_lexer": "ipython3",
   "version": "3.12.1"
  }
 },
 "nbformat": 4,
 "nbformat_minor": 2
}
